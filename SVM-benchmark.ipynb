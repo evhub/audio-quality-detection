{
 "cells": [
  {
   "cell_type": "code",
   "execution_count": null,
   "metadata": {},
   "outputs": [],
   "source": [
    "import numpy as np\n",
    "import librosa\n",
    "import matplotlib.pyplot as plt\n",
    "\n",
    "from song_db_universal import songs"
   ]
  },
  {
   "cell_type": "code",
   "execution_count": null,
   "metadata": {},
   "outputs": [],
   "source": [
    "SAMPLE_RATE = 22050\n",
    "refs, queries = songs.get_snips_for_artist(audio_len = 1*SAMPLE_RATE, \"taylorswift\")\n",
    "print(refs.shape, queries.shape)"
   ]
  },
  {
   "cell_type": "code",
   "execution_count": null,
   "metadata": {},
   "outputs": [],
   "source": [
    "def preprocess(M):\n",
    "    # Absolute value, log and average across time frames\n",
    "    return np.average(np.log(1+1000000*np.absolute(M)),axis = 1)"
   ]
  },
  {
   "cell_type": "code",
   "execution_count": null,
   "metadata": {},
   "outputs": [],
   "source": [
    "# Compute CQT and preprocess\n",
    "refCQT = []\n",
    "queryCQT = []\n",
    "for ref in refs:\n",
    "    refCQT.append(preprocess(librosa.cqt(np.asfarray(ref, dtype='float32'), sr = 22050, fmin=130.81, n_bins=121, bins_per_octave=24, hop_length=96)))\n",
    "for query in queries: \n",
    "    queryCQT.append(preprocess(librosa.cqt(np.asfarray(query, dtype='float32'), sr = 22050, fmin=130.81, n_bins=121, bins_per_octave=24, hop_length=96)))\n",
    "refCQT = np.array(refCQT)\n",
    "queryCQT = np.array(queryCQT)"
   ]
  },
  {
   "cell_type": "code",
   "execution_count": null,
   "metadata": {},
   "outputs": [],
   "source": [
    "print(refCQT.shape, queryCQT.shape)"
   ]
  },
  {
   "cell_type": "code",
   "execution_count": null,
   "metadata": {},
   "outputs": [],
   "source": [
    "# Separate into training and testing datasets\n",
    "\n",
    "training_p = 0.6\n",
    "ref_p = int(training_p*refs.shape[0])\n",
    "query_p = int(training_p*queries.shape[0])\n",
    "print (ref_p, query_p)"
   ]
  },
  {
   "cell_type": "code",
   "execution_count": null,
   "metadata": {},
   "outputs": [],
   "source": [
    "X = np.concatenate((refCQT, queryCQT), axis=0)\n",
    "y = np.array([0]*refs.shape[0] + [1]*queries.shape[0])\n",
    "\n",
    "X_train = np.concatenate((refCQT[:ref_p], queryCQT[:query_p]), axis=0)\n",
    "X_test = np.concatenate((refCQT[ref_p:], queryCQT[query_p:]), axis=0)\n",
    "y_train = np.array([0]*ref_p + [1]*query_p)\n",
    "y_test = np.array([0]*(refs.shape[0]-ref_p) + [1]*(queries.shape[0]-query_p))\n",
    "print(X_train.shape, y_train.shape, X_test.shape, y_test.shape)"
   ]
  },
  {
   "cell_type": "code",
   "execution_count": null,
   "metadata": {},
   "outputs": [],
   "source": [
    "# SVC Model\n",
    "from sklearn.svm import SVC, LinearSVC\n",
    "clf = SVC()\n",
    "clf.fit(X_train, y_train)"
   ]
  },
  {
   "cell_type": "code",
   "execution_count": null,
   "metadata": {},
   "outputs": [],
   "source": [
    "print(clf.score(X_train, y_train))\n",
    "print(clf.score(X_test, y_test))"
   ]
  },
  {
   "cell_type": "code",
   "execution_count": null,
   "metadata": {},
   "outputs": [],
   "source": [
    "# Project features to 2-D plot\n",
    "from sklearn.decomposition import PCA\n",
    "pca = PCA(n_components=2)\n",
    "X_reduced = pca.fit_transform(X)"
   ]
  },
  {
   "cell_type": "code",
   "execution_count": null,
   "metadata": {},
   "outputs": [],
   "source": [
    "# Scatter plot of all data points\n",
    "plt.figure()\n",
    "plt.scatter(X_reduced[:, 0], X_reduced[:, 1], c=y, zorder=10, cmap=plt.cm.Paired,\n",
    "                edgecolor='k', s=20)\n",
    "plt.xlabel('1st Component')\n",
    "plt.ylabel('2nd Component')\n",
    "plt.title('SVC, audio_len = 1s')\n",
    "plt.show()"
   ]
  }
 ],
 "metadata": {
  "kernelspec": {
   "display_name": "Python 3",
   "language": "python",
   "name": "python3"
  },
  "language_info": {
   "codemirror_mode": {
    "name": "ipython",
    "version": 3
   },
   "file_extension": ".py",
   "mimetype": "text/x-python",
   "name": "python",
   "nbconvert_exporter": "python",
   "pygments_lexer": "ipython3",
   "version": "3.6.4"
  }
 },
 "nbformat": 4,
 "nbformat_minor": 2
}
